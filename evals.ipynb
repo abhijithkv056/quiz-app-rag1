{
 "cells": [
  {
   "cell_type": "code",
   "execution_count": 1,
   "metadata": {},
   "outputs": [],
   "source": [
    "from datasets import Dataset \n",
    "import os\n",
    "from ragas import evaluate\n",
    "from ragas.metrics import faithfulness, answer_correctness"
   ]
  },
  {
   "cell_type": "code",
   "execution_count": 2,
   "metadata": {},
   "outputs": [],
   "source": [
    "data_samples = {\n",
    "    'question': [\n",
    "        'When was the first super bowl?', \n",
    "        'Who won the most super bowls?'\n",
    "    ],\n",
    "    'answer': [\n",
    "        'The first superbowl was held on Jan 15, 1967', \n",
    "        'The most super bowls have been won by The New England Patriots'\n",
    "    ],\n",
    "    'contexts': [\n",
    "        [\n",
    "            'The First AFL–NFL World Championship Game was an American football game played on January 15, 1967, at the Los Angeles Memorial Coliseum in Los Angeles,'\n",
    "        ], \n",
    "        [\n",
    "            'The Green Bay Packers...Green Bay, Wisconsin.',\n",
    "            'The Packers compete...Football Conference'\n",
    "        ]\n",
    "    ],\n",
    "    'ground_truth': [\n",
    "        'The first superbowl was held on January 15, 1967', \n",
    "        'The New England Patriots have won the Super Bowl a record six times'\n",
    "    ]\n",
    "}\n",
    "\n",
    "dataset = Dataset.from_dict(data_samples)"
   ]
  },
  {
   "cell_type": "code",
   "execution_count": 3,
   "metadata": {},
   "outputs": [
    {
     "data": {
      "application/vnd.jupyter.widget-view+json": {
       "model_id": "c8c574010d8d4311b8ff9545f070ca92",
       "version_major": 2,
       "version_minor": 0
      },
      "text/plain": [
       "Evaluating:   0%|          | 0/4 [00:00<?, ?it/s]"
      ]
     },
     "metadata": {},
     "output_type": "display_data"
    },
    {
     "data": {
      "text/plain": [
       "{'faithfulness': 0.5000, 'answer_correctness': 0.9901}"
      ]
     },
     "execution_count": 3,
     "metadata": {},
     "output_type": "execute_result"
    }
   ],
   "source": [
    "score = evaluate(dataset, metrics=[faithfulness, answer_correctness])\n",
    "score"
   ]
  },
  {
   "cell_type": "code",
   "execution_count": 4,
   "metadata": {},
   "outputs": [
    {
     "data": {
      "text/html": [
       "<div>\n",
       "<style scoped>\n",
       "    .dataframe tbody tr th:only-of-type {\n",
       "        vertical-align: middle;\n",
       "    }\n",
       "\n",
       "    .dataframe tbody tr th {\n",
       "        vertical-align: top;\n",
       "    }\n",
       "\n",
       "    .dataframe thead th {\n",
       "        text-align: right;\n",
       "    }\n",
       "</style>\n",
       "<table border=\"1\" class=\"dataframe\">\n",
       "  <thead>\n",
       "    <tr style=\"text-align: right;\">\n",
       "      <th></th>\n",
       "      <th>user_input</th>\n",
       "      <th>retrieved_contexts</th>\n",
       "      <th>response</th>\n",
       "      <th>reference</th>\n",
       "      <th>faithfulness</th>\n",
       "      <th>answer_correctness</th>\n",
       "    </tr>\n",
       "  </thead>\n",
       "  <tbody>\n",
       "    <tr>\n",
       "      <th>0</th>\n",
       "      <td>When was the first super bowl?</td>\n",
       "      <td>[The First AFL–NFL World Championship Game was...</td>\n",
       "      <td>The first superbowl was held on Jan 15, 1967</td>\n",
       "      <td>The first superbowl was held on January 15, 1967</td>\n",
       "      <td>1.0</td>\n",
       "      <td>0.999097</td>\n",
       "    </tr>\n",
       "    <tr>\n",
       "      <th>1</th>\n",
       "      <td>Who won the most super bowls?</td>\n",
       "      <td>[The Green Bay Packers...Green Bay, Wisconsin....</td>\n",
       "      <td>The most super bowls have been won by The New ...</td>\n",
       "      <td>The New England Patriots have won the Super Bo...</td>\n",
       "      <td>0.0</td>\n",
       "      <td>0.981072</td>\n",
       "    </tr>\n",
       "  </tbody>\n",
       "</table>\n",
       "</div>"
      ],
      "text/plain": [
       "                       user_input  \\\n",
       "0  When was the first super bowl?   \n",
       "1   Who won the most super bowls?   \n",
       "\n",
       "                                  retrieved_contexts  \\\n",
       "0  [The First AFL–NFL World Championship Game was...   \n",
       "1  [The Green Bay Packers...Green Bay, Wisconsin....   \n",
       "\n",
       "                                            response  \\\n",
       "0       The first superbowl was held on Jan 15, 1967   \n",
       "1  The most super bowls have been won by The New ...   \n",
       "\n",
       "                                           reference  faithfulness  \\\n",
       "0   The first superbowl was held on January 15, 1967           1.0   \n",
       "1  The New England Patriots have won the Super Bo...           0.0   \n",
       "\n",
       "   answer_correctness  \n",
       "0            0.999097  \n",
       "1            0.981072  "
      ]
     },
     "execution_count": 4,
     "metadata": {},
     "output_type": "execute_result"
    }
   ],
   "source": [
    "df = score.to_pandas()\n",
    "df"
   ]
  },
  {
   "cell_type": "code",
   "execution_count": 9,
   "metadata": {},
   "outputs": [],
   "source": [
    "data = {\n",
    "    'question': [\n",
    "        'quiz me about Chatbot - Customer Intent Prediction to assist agents for easy flagging',\n",
    "        'Q&A RAG based Chatbot that used Lang chain framework for users to and ask question',\n",
    "        'quiz me on The conventional methods to calculate the resistance of a modern vessel with bulbous bow',\n",
    "        'quiz me about the A certain ice-breaking capability with bulbous bow',\n",
    "        'quiz me on abhijiths work as Manager, BSG – Retail Liabilities in kotak and Software Development & delivery Life cycle'\n",
    "    ],\n",
    "    'answer': [\n",
    "        \"Here is a question about Chatbot - Customer Intent Prediction: What machine learning model was showcased for intent prediction in the chatbot project?. The correct answer is: C) XGBoost\",\n",
    "        \"Here is a question about the Q&A RAG based Chatbot:Which framework was used to develop and deploy the Q&A RAG based Chatbot?. That's correct! The Q&A RAG based Chatbot was developed and deployed using the Lang chain framework.\",\n",
    "        \"Here is a question about the conventional methods to calculate the resistance of a modern vessel with a bulbous bow: What is the usual method of calculating the resistance of a modern ship with a bulbous bow?, That's correct! The usual method is to start with a ship with a bulb and make a correction to the resistance.\",\n",
    "        \"Here is a question about the ice-breaking capability with a bulbous bow: What advantage does a bulbous bow have in medium-thick ice compared to conventional bows?,  The correct answer is: B) It raises the ice sheet and turns broken lumps to slide along the hull\",\n",
    "        \"Here is a question about Abhijith's work as Manager, BSG – Retail Liabilities in Kotak:What was one of Abhijith's key contributions in his role at Kotak Mahindra Bank?Abhijith enhanced software reliability by performing QA tasks in his role at Kotak Mahindra Bank.\"\n",
    "    ],\n",
    "    'contexts': [\n",
    "        \"Showcased  a model  for a Chat bot  Intent prediction  NLP project using Random Forest  Classification model  –to assist agents for easy flagging of negative response given by customer. • Leveraged NLP techniques  for projects involving d ata extraction, Name Entity Recognition (NER), Sentiment analysis, Information retrieval. Proficient in NLTK, Gensim, Spacy, regex, TF -IDF for the same\",\n",
    "        \"PORTFOLIO AND PROJECTS LLM & Gen AI       Q&A RAG based Chatbot   - Live Link     Project link:  GitHub • Developed  and deployed  an End to End Chatbot appl ication  using Lang chain framework fo r users to and ask question about with context to the data uploaded with RAG . Utilized both Open AI gpt-4o & Anthropic Claude -sonnet -3.5 model for LLM inference  and vector emb eddings\",\n",
    "        \"The conventional methods to calculate the resistance of a modern vessel with bulbous bow start with a bulbless ship and then adjust to the resistance.This resistance deduction is made in only a few of the resistance calculationmethods, usually insufﬁciently and without taking into account those bulbswith pronounced projecting forms. All resistance calculation methods can,however, include a deduction for bulbous bows using empirical values derived from any source, e.g. Kracht (1973).\",\n",
    "        \"tion: 1. Ice operation with bulbous bow A certain ice-breaking capability can be achieved if the position of the upper side of the bulb enables it to raise an ice sheet. For operation in medium-thick ice, the bulbous bow has greater advantages than conventional, and even ice- breaking, bows because it turns the broken lumps so that their wet sides slidealongthehull, thuscausingless wearontheoutershell andless resistance.The\",\n",
    "        \"Proficient in  SQL, and in Python  libraries like NumPy and Pandas  for data manipulation, Statistics and data transformation into actionable recommendations  utilizing Data Visualization libraries like Matplotlib Familiarity with Cloud based AWS  tools like S3, EC2 AWS Lambda, Amazon Redshift, AWS SageMaker  & version control via Git Manage r, BSG – Retail Liabilities     Kotak Mahindra Bank Limited           July 2022 – Present 2025-03-10 21:47:25,959 - INFO -  Doc 2 length: 490 characters 2025-03-10 21:47:25,960 - INFO - Content :• Performed Exploratory Data Analysis  on customer behaviour during onboarding and identified a financial loss of 25 Lakhs  on Kotak CA journey due to customer drop -off in Funding page . Proficient in using Python  and SQL for data analytics • Handled the Software Development & delivery Life cy cle and associated  with development of Kotak CA onboarding product.\"\n",
    "    ],\n",
    "    'ground_truth': [\n",
    "        \"What machine learning model was showcased for intent prediction in the chatbot project?A) Support Vector Machine (SVM) B) Random Forest Classification C) XGBoost D) Decision Tree\",\n",
    "        \"The Q&A RAG based Chatbot was developed and deployed using the Lang chain framework\",\n",
    "        \"The usual method of calculating the resistance of a modern ship with a bulbous bow is to start with a ship with a bulb and make a correction to the resistance.\",\n",
    "        \"The advantage of a bulbous bow in medium-thick ice compared to conventional bows is that it raises the ice sheet and turns broken lumps to slide along the hull\",\n",
    "        \"Abhijith's key contributions in his role at Kotak Mahindra Bank is that he enhanced software reliability by performing QA tasks in his role at Kotak Mahindra Bank\"\n",
    "    ]\n",
    "}"
   ]
  },
  {
   "cell_type": "code",
   "execution_count": 10,
   "metadata": {},
   "outputs": [],
   "source": [
    "data['contexts'] = [[ctx] for ctx in data['contexts']]"
   ]
  },
  {
   "cell_type": "code",
   "execution_count": 11,
   "metadata": {},
   "outputs": [
    {
     "data": {
      "application/vnd.jupyter.widget-view+json": {
       "model_id": "b914cea7db444695b1d4fa9edd30bc58",
       "version_major": 2,
       "version_minor": 0
      },
      "text/plain": [
       "Evaluating:   0%|          | 0/10 [00:00<?, ?it/s]"
      ]
     },
     "metadata": {},
     "output_type": "display_data"
    },
    {
     "data": {
      "text/plain": [
       "{'faithfulness': 0.1167, 'answer_correctness': 0.6564}"
      ]
     },
     "execution_count": 11,
     "metadata": {},
     "output_type": "execute_result"
    }
   ],
   "source": [
    "df = Dataset.from_dict(data)\n",
    "score = evaluate(df, metrics=[faithfulness, answer_correctness])\n",
    "score"
   ]
  },
  {
   "cell_type": "code",
   "execution_count": 12,
   "metadata": {},
   "outputs": [
    {
     "data": {
      "text/html": [
       "<div>\n",
       "<style scoped>\n",
       "    .dataframe tbody tr th:only-of-type {\n",
       "        vertical-align: middle;\n",
       "    }\n",
       "\n",
       "    .dataframe tbody tr th {\n",
       "        vertical-align: top;\n",
       "    }\n",
       "\n",
       "    .dataframe thead th {\n",
       "        text-align: right;\n",
       "    }\n",
       "</style>\n",
       "<table border=\"1\" class=\"dataframe\">\n",
       "  <thead>\n",
       "    <tr style=\"text-align: right;\">\n",
       "      <th></th>\n",
       "      <th>user_input</th>\n",
       "      <th>retrieved_contexts</th>\n",
       "      <th>response</th>\n",
       "      <th>reference</th>\n",
       "      <th>faithfulness</th>\n",
       "      <th>answer_correctness</th>\n",
       "    </tr>\n",
       "  </thead>\n",
       "  <tbody>\n",
       "    <tr>\n",
       "      <th>0</th>\n",
       "      <td>quiz me about Chatbot - Customer Intent Predic...</td>\n",
       "      <td>[Showcased  a model  for a Chat bot  Intent pr...</td>\n",
       "      <td>Here is a question about Chatbot - Customer In...</td>\n",
       "      <td>What machine learning model was showcased for ...</td>\n",
       "      <td>0.000000</td>\n",
       "      <td>0.531480</td>\n",
       "    </tr>\n",
       "    <tr>\n",
       "      <th>1</th>\n",
       "      <td>Q&amp;A RAG based Chatbot that used Lang chain fra...</td>\n",
       "      <td>[PORTFOLIO AND PROJECTS LLM &amp; Gen AI       Q&amp;A...</td>\n",
       "      <td>Here is a question about the Q&amp;A RAG based Cha...</td>\n",
       "      <td>The Q&amp;A RAG based Chatbot was developed and de...</td>\n",
       "      <td>0.250000</td>\n",
       "      <td>0.538992</td>\n",
       "    </tr>\n",
       "    <tr>\n",
       "      <th>2</th>\n",
       "      <td>quiz me on The conventional methods to calcula...</td>\n",
       "      <td>[The conventional methods to calculate the res...</td>\n",
       "      <td>Here is a question about the conventional meth...</td>\n",
       "      <td>The usual method of calculating the resistance...</td>\n",
       "      <td>0.333333</td>\n",
       "      <td>0.841962</td>\n",
       "    </tr>\n",
       "    <tr>\n",
       "      <th>3</th>\n",
       "      <td>quiz me about the A certain ice-breaking capab...</td>\n",
       "      <td>[tion: 1. Ice operation with bulbous bow A cer...</td>\n",
       "      <td>Here is a question about the ice-breaking capa...</td>\n",
       "      <td>The advantage of a bulbous bow in medium-thick...</td>\n",
       "      <td>0.000000</td>\n",
       "      <td>0.838279</td>\n",
       "    </tr>\n",
       "    <tr>\n",
       "      <th>4</th>\n",
       "      <td>quiz me on abhijiths work as Manager, BSG – Re...</td>\n",
       "      <td>[Proficient in  SQL, and in Python  libraries ...</td>\n",
       "      <td>Here is a question about Abhijith's work as Ma...</td>\n",
       "      <td>Abhijith's key contributions in his role at Ko...</td>\n",
       "      <td>0.000000</td>\n",
       "      <td>0.531051</td>\n",
       "    </tr>\n",
       "  </tbody>\n",
       "</table>\n",
       "</div>"
      ],
      "text/plain": [
       "                                          user_input  \\\n",
       "0  quiz me about Chatbot - Customer Intent Predic...   \n",
       "1  Q&A RAG based Chatbot that used Lang chain fra...   \n",
       "2  quiz me on The conventional methods to calcula...   \n",
       "3  quiz me about the A certain ice-breaking capab...   \n",
       "4  quiz me on abhijiths work as Manager, BSG – Re...   \n",
       "\n",
       "                                  retrieved_contexts  \\\n",
       "0  [Showcased  a model  for a Chat bot  Intent pr...   \n",
       "1  [PORTFOLIO AND PROJECTS LLM & Gen AI       Q&A...   \n",
       "2  [The conventional methods to calculate the res...   \n",
       "3  [tion: 1. Ice operation with bulbous bow A cer...   \n",
       "4  [Proficient in  SQL, and in Python  libraries ...   \n",
       "\n",
       "                                            response  \\\n",
       "0  Here is a question about Chatbot - Customer In...   \n",
       "1  Here is a question about the Q&A RAG based Cha...   \n",
       "2  Here is a question about the conventional meth...   \n",
       "3  Here is a question about the ice-breaking capa...   \n",
       "4  Here is a question about Abhijith's work as Ma...   \n",
       "\n",
       "                                           reference  faithfulness  \\\n",
       "0  What machine learning model was showcased for ...      0.000000   \n",
       "1  The Q&A RAG based Chatbot was developed and de...      0.250000   \n",
       "2  The usual method of calculating the resistance...      0.333333   \n",
       "3  The advantage of a bulbous bow in medium-thick...      0.000000   \n",
       "4  Abhijith's key contributions in his role at Ko...      0.000000   \n",
       "\n",
       "   answer_correctness  \n",
       "0            0.531480  \n",
       "1            0.538992  \n",
       "2            0.841962  \n",
       "3            0.838279  \n",
       "4            0.531051  "
      ]
     },
     "execution_count": 12,
     "metadata": {},
     "output_type": "execute_result"
    }
   ],
   "source": [
    "df2 = score.to_pandas()\n",
    "df2"
   ]
  },
  {
   "cell_type": "code",
   "execution_count": null,
   "metadata": {},
   "outputs": [],
   "source": [
    "#retrival and genraration evals\n",
    "\n",
    "#faithfullness -factual considency with generated answer  ->low means hallucination - retrived docs not fully used\n",
    "#accuracy - corectness when compared with ground truth - low accuracy -> incorrect anser given"
   ]
  },
  {
   "cell_type": "code",
   "execution_count": null,
   "metadata": {},
   "outputs": [],
   "source": []
  }
 ],
 "metadata": {
  "kernelspec": {
   "display_name": "llms_v4",
   "language": "python",
   "name": "python3"
  },
  "language_info": {
   "codemirror_mode": {
    "name": "ipython",
    "version": 3
   },
   "file_extension": ".py",
   "mimetype": "text/x-python",
   "name": "python",
   "nbconvert_exporter": "python",
   "pygments_lexer": "ipython3",
   "version": "3.10.16"
  }
 },
 "nbformat": 4,
 "nbformat_minor": 2
}
