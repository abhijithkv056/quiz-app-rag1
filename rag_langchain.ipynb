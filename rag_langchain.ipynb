{
 "cells": [
  {
   "cell_type": "code",
   "execution_count": 4,
   "metadata": {},
   "outputs": [
    {
     "data": {
      "text/plain": [
       "True"
      ]
     },
     "execution_count": 4,
     "metadata": {},
     "output_type": "execute_result"
    }
   ],
   "source": [
    "import os\n",
    "import dotenv\n",
    "from pathlib import Path\n",
    "\n",
    "from langchain_core.messages import AIMessage, HumanMessage\n",
    "from langchain_community.document_loaders.text import TextLoader\n",
    "from langchain_community.document_loaders import (\n",
    "    WebBaseLoader, \n",
    "    PyPDFLoader, \n",
    "    Docx2txtLoader,\n",
    ")\n",
    "from langchain_community.vectorstores import Chroma\n",
    "from langchain.text_splitter import RecursiveCharacterTextSplitter\n",
    "from langchain_openai import OpenAIEmbeddings, ChatOpenAI\n",
    "from langchain_anthropic import ChatAnthropic\n",
    "from langchain_core.prompts import ChatPromptTemplate, MessagesPlaceholder\n",
    "from langchain.chains import create_history_aware_retriever, create_retrieval_chain\n",
    "from langchain.chains.combine_documents import create_stuff_documents_chain\n",
    "\n",
    "os.environ[\"USER_AGENT\"] = \"MyFastAPIApp/1.0\"\n",
    "dotenv.load_dotenv()"
   ]
  },
  {
   "cell_type": "code",
   "execution_count": 5,
   "metadata": {},
   "outputs": [],
   "source": [
    "# Load docs\n",
    "\n",
    "doc_paths = [\n",
    "    \"docs/test_rag.pdf\"\n",
    "]\n",
    "\n",
    "docs = [] \n",
    "for doc_file in doc_paths:\n",
    "    file_path = Path(doc_file)\n",
    "\n",
    "    try:\n",
    "        if doc_file.endswith(\".pdf\"):\n",
    "            loader = PyPDFLoader(file_path)\n",
    "        elif doc_file.endswith(\".docx\"):\n",
    "            loader = Docx2txtLoader(file_path)\n",
    "        elif doc_file.endswith(\".txt\") or doc_file.name.endswith(\".md\"):\n",
    "            loader = TextLoader(file_path)\n",
    "        else:\n",
    "            print(f\"Document type {doc_file.type} not supported.\")\n",
    "            continue\n",
    "\n",
    "        docs.extend(loader.load())\n",
    "\n",
    "    except Exception as e:\n",
    "        print(f\"Error loading document {doc_file.name}: {e}\")\n",
    "\n",
    "\n",
    "# Load URLs\n",
    "\n",
    "url = \"https://docs.streamlit.io/develop/quick-reference/release-notes\"\n",
    "try:\n",
    "    loader = WebBaseLoader(url)\n",
    "    docs.extend(loader.load())\n",
    "\n",
    "except Exception as e:\n",
    "    print(f\"Error loading document from {url}: {e}\")"
   ]
  },
  {
   "cell_type": "code",
   "execution_count": 6,
   "metadata": {},
   "outputs": [
    {
     "data": {
      "text/plain": [
       "[Document(metadata={'source': 'docs\\\\test_rag.pdf', 'page': 0}, page_content='SAMPLE BUSINESS \\nREQUIREMENTS \\nDOCUMENT T EMPLATE \\nSAMPLE BUSINESS REQUIREMENTS DOCUMENT TEMPLATE  \\nVERSION HISTORY  \\nVERSION  APPROVED BY  REVISION \\nDATE  DESCRIPTION OF CHANGE  AUTHOR  \\nNOTE TO USER: Overwrite the sample text included in this template to complete your project’s business \\nrequirements document.'),\n",
       " Document(metadata={'source': 'docs\\\\test_rag.pdf', 'page': 1}, page_content='SAMPLE BUSINESS REQUIREMENTS DOCUMENT TEMPLATE T\\nABLE OF CONTENTS  \\n1.EXECUTIVE SUMMARY SNAPSHOT 3 \\n2.PROJECT DESCRIPTION 4 \\n3.PROJECT SCOPE 5 \\n4.BUSINESS DRIVERS 6 \\n5.CURRENT PROCESS 7 \\n6.PROPOSED PROCESS 8 \\n7.FUNCTIONAL REQUIREMENTS 9 \\nPRIORITY 10 \\nREQUIREMENTS CATEGORIES (RC1) 10 \\n8. NON- FUNCTIONAL REQUIREMENTS 11 \\n9.FINANCIAL STATEMENTS 12 \\n10. COST AND BENEFIT 13 \\n11. RESOURCES 14 \\n12. SCHEDULE, TIMELINE, AND DEADLINES 15 \\n13. ASSUMPTIONS 16 \\n14. GLOSSARY 17 \\n15. REFERENCES 18 \\n16. APPENDIX 19 '),\n",
       " Document(metadata={'source': 'docs\\\\test_rag.pdf', 'page': 2}, page_content='SAMPLE BUSINESS REQUIREMENTS DOCUMENT TEMPLATE 1.EXECUTIVE SUMMARY SNAPSHOT'),\n",
       " Document(metadata={'source': 'docs\\\\test_rag.pdf', 'page': 3}, page_content='SAMPLE BUSINESS REQUIREMENTS DOCUMENT TEMPLATE 2.PROJECT DESCRIPTION'),\n",
       " Document(metadata={'source': 'docs\\\\test_rag.pdf', 'page': 4}, page_content='SAMPLE BUSINESS REQUIREMENTS DOCUMENT TEMPLATE 3.PROJECT SCOPE'),\n",
       " Document(metadata={'source': 'docs\\\\test_rag.pdf', 'page': 5}, page_content='SAMPLE BUSINESS REQUIREMENTS DOCUMENT TEMPLATE 4.BUSINESS DRIVERS'),\n",
       " Document(metadata={'source': 'docs\\\\test_rag.pdf', 'page': 6}, page_content='SAMPLE BUSINESS REQUIREMENTS DOCUMENT TEMPLATE 5.CURRENT PROCESS'),\n",
       " Document(metadata={'source': 'docs\\\\test_rag.pdf', 'page': 7}, page_content='SAMPLE BUSINESS REQUIREMENTS DOCUMENT TEMPLATE 6.PROPOSED PROCESS'),\n",
       " Document(metadata={'source': 'docs\\\\test_rag.pdf', 'page': 8}, page_content='SAMPLE BUSINESS REQUIREMENTS DOCUMENT TEMPLATE 7.FUNCTIONAL REQUIREMENTS'),\n",
       " Document(metadata={'source': 'docs\\\\test_rag.pdf', 'page': 9}, page_content='SAMPLE BUSINESS REQUIREMENTS DOCUMENT TEMPLATE PRIORITY \\nUse t he following priority table . It allows you to apply  a ratings system to your \\nrequirements, so you have the visibility (into the value, status, and description of each \\nrequirement) that’s necessary for determining whether a particular requirement is \\nessential to p roject success:  \\nValue  Rating  Description  \\n1 Critical  The requirement is critical to the project’s success. \\nWithout fulfilling this requirement, the project is not \\npossible.  \\n2 High  The requirement is high priority re the project’s \\nsuccess, but the project could still be implemented \\nin a minimum viable product (MVP) scenario.  \\n3 Medium  The requirement is important to the project’s \\nsuccess, as it provides value, but the project could \\nstill be implemented in an MVP scen ario.  \\n4 Low The requirement is low  priority (i.e., it would be nice \\nto have),  but the project’s success is not dependent \\nupon it.  \\n5 Future  The requirement is out side of the project’s scope \\nand is included as a possible component of a \\nprospective  release and/or feature.  \\nREQUIREMENTS CATEGORIES (RC1)  \\nID Requirement  Priority  Raised By  '),\n",
       " Document(metadata={'source': 'docs\\\\test_rag.pdf', 'page': 10}, page_content='SAMPLE BUSINESS REQUIREMENTS DOCUMENT TEMPLATE 8.NON- FUNCTIONAL REQUIREMENTS\\n. \\nID Requirement  '),\n",
       " Document(metadata={'source': 'docs\\\\test_rag.pdf', 'page': 11}, page_content='SAMPLE BUSINESS REQUIREMENTS DOCUMENT TEMPLATE 9.FINANCIAL STATEMENTS'),\n",
       " Document(metadata={'source': 'docs\\\\test_rag.pdf', 'page': 12}, page_content='SAMPLE BUSINESS REQUIREMENTS DOCUMENT TEMPLATE 10.COST AND BENEFIT'),\n",
       " Document(metadata={'source': 'docs\\\\test_rag.pdf', 'page': 13}, page_content='SAMPLE BUSINESS REQUIREMENTS DOCUMENT TEMPLATE 11. RESOURCES'),\n",
       " Document(metadata={'source': 'docs\\\\test_rag.pdf', 'page': 14}, page_content='SAMPLE BUSINESS REQUIREMENTS DOCUMENT TEMPLATE 12.SCHEDULE, TIMELINE, AND DEADLINES'),\n",
       " Document(metadata={'source': 'docs\\\\test_rag.pdf', 'page': 15}, page_content='SAMPLE BUSINESS REQUIREMENTS DOCUMENT TEMPLATE 13. ASSUMPTION S'),\n",
       " Document(metadata={'source': 'docs\\\\test_rag.pdf', 'page': 16}, page_content='SAMPLE BUSINESS REQUIREMENTS DOCUMENT TEMPLATE 14. GLOSSARY\\nTerm / Abbreviation Explanation  '),\n",
       " Document(metadata={'source': 'docs\\\\test_rag.pdf', 'page': 17}, page_content='SAMPLE BUSINESS REQUIREMENTS DOCUMENT TEMPLATE 15. REFERENCES\\nName  Location  '),\n",
       " Document(metadata={'source': 'docs\\\\test_rag.pdf', 'page': 18}, page_content='SAMPLE BUSINESS REQUIREMENTS DOCUMENT TEMPLATE 16.APPENDIX'),\n",
       " Document(metadata={'source': 'docs\\\\test_rag.pdf', 'page': 19}, page_content='DISCLAIMER  \\nAny articles, templates, or information provided by Smartsheet on the website are for \\nreference only. While we strive to keep the information up to date and correct, we \\nmake no representations or warranties of any kind, express or implied, about the completeness, accuracy, reliability, suitability, or availability with respect to the website \\nor the information, articles, templates, or related graphics contained on the website. \\nAny reliance you place on such information is therefore strictly at your own risk.\\n '),\n",
       " Document(metadata={'source': 'https://docs.streamlit.io/develop/quick-reference/release-notes', 'title': 'Release notes - Streamlit Docs', 'description': 'A changelog of highlights and fixes for each version of Streamlit.', 'language': 'No language found.'}, page_content=\"Release notes - Streamlit DocsDocumentationsearchSearchrocket_launchGet startedInstallationaddFundamentalsaddFirst stepsaddcodeDevelopConceptsaddAPI referenceaddTutorialsaddQuick referenceremoveCheat sheetRelease notesremove2025202420232022202120202019Pre-release featuresRoadmapopen_in_newweb_assetDeployConceptsaddStreamlit Community CloudaddSnowflakeOther platformsaddschoolKnowledge baseFAQInstalling dependenciesDeployment issuesHome/Develop/Quick reference/Release notesRelease notes\\nThis page lists highlights, bug fixes, and known issues for the latest release of Streamlit. If you're looking for information about nightly releases or experimental features, see Pre-release features.\\nUpgrade Streamlit\\nstarTipTo upgrade to the latest version of Streamlit, run:pip install --upgrade streamlit\\n\\nVersion 1.42.0 (latest)\\nRelease date: February 4, 2025\\nHighlights\\n\\n👩\\u200d💻\\xa0Introducing st.login() and st.logout() to authenticate users with any OpenID Connect provider.\\n\\nNotable Changes\\n\\n❣️\\xa0st.table supports Markdown (#8785, #10088).\\n⏲️\\xa0st.spinner can show elapsed time with show_time=True (#6805, #10072).\\n💈\\xa0st.image supports Markdown in the caption parameter (#6808, #10075).\\n↕️\\xa0st.code has a height parameter (#7418, #10080).\\n↔️\\xa0Most charts default to using use_container_width=True (#10064).\\n❄️\\xa0SnowflakeConnection was updated to match the current Snowflake API, which changes its handling of keyword arguments in some cases (#10122).\\n🐁\\xa0Users can drag and drop dataframe columns to rearrange them (#8796, #10099).\\n\\nOther Changes\\n\\n📌\\xa0Dataframes have column menus for users to sort and pin columns (#10206).\\n🚦\\xa0Dataframes support categorical indices (#9647, #10195).\\n🛸\\xa0Dataframes show a hover highlight on rows (#8096, #10104).\\n⚠️\\xa0When dataframes have cell values that are inconsistent with their configured type, Streamlit shows a tooltip describing the error (#8253, #9899).\\n➰ If there is an existing asyncio event loop when a Streamlit app starts, the app will reuse it instead of creating a new one (#10164). Thanks, DeltaGa!\\n🖼️\\xa0Streamlit recognizes pyspark.sql.connect.dataframe.DataFrame objects as dataframes (#9953, #9954). Thanks, OSalama!\\n😃\\xa0We've updated emoji validation for new emojis (#10149).\\n🔣\\xa0Material Symbols have been updated with the latest icons (#10247).\\n💅\\xa0Visual tweaks and improvements (#8705, #9823, #10047, #10048, #10083, #10087, #10225).\\n⭕\\xa0st.image displays rounded corners for consistent design (#9999).\\n🎩\\xa0Bug fix: Top margin is applied correctly in st.columns (#10265, #10268).\\n💩\\xa0Bug fix: react-syntax-highlighter is aliased to prevent rendering errors in st.code (#10231, #10244).\\n🧹\\xa0Bug fix: We improved error messages for st.query_params (#10111, #10237).\\n🪱\\xa0Bug fix: Linting for st.altair_chart recognizes all Altair chart types (#10202).\\n↗️\\xa0Bug fix: st.dataframe supports raw Arrow data (#5606, #10191).\\n🐍\\xa0Bug fix: st.navigation and st.page_link work when running in pure Python tests (#10163).\\n☠️\\xa0Bug fix: Retries were added to prevent a possible race condition when files are removed while Streamlit is running (#10148).\\n👽\\xa0Bug fix: When printing an app, st.logo will only print once (#10165, #10171).\\n🌍\\xa0Bug fix: Material icons are marked to prevent translation (#10168, #10174).\\n👻\\xa0Bug fix: st.vega_lite_chart correctly caches and updates its data (#6689, #10125).\\n🦀\\xa0Bug fix: When a fragment ID is not found, Streamlit logs a warning but doesn't raise an error (#9921, #10130).\\n🦋\\xa0Bug fix: The label on st.expander correctly fades when stale (#10085).\\n🦎\\xa0Bug fix: st.date_input provides better type hinting for its return value (#9477, #9620). Thanks, pranaybattu!\\n🐌\\xa0Bug fix: In dataframes, small float values display their first significant figure instead of displaying as 0 (#10060).\\n🕸️\\xa0Bug fix: When rich is installed, errors are only logged once. (#10097).\\n🦗\\xa0Bug fix: st.text preserves whitespace (#10055, #10062).\\n🦂\\xa0Bug fix: Dataframe width is not ignored when height is changed (#9762, #10036).\\n🦟\\xa0Bug fix: Multi index columns correctly handle empty labels (#9749, #10035).\\n🦠\\xa0Bug fix: Pinned columns respect column_order in when configured in st.dataframe (#9997, #10034).\\n🪰\\xa0Bug fix: Tooltips don't overflow to the left or right (#9288, #9452, #9983).\\n🪳\\xa0Bug fix: Disabled feedback widgets correctly show their value (#10030).\\n🕷️\\xa0Bug fix: Widgets correctly submit values if a user edits the value and immediately clicks a button (#10007, #10018).\\n🐞\\xa0Bug fix: Some MIME types have been hardcoded to protect against browser misconfiguration (#10004, #10010).\\n🐝\\xa0Bug fix: Files that unnecessarily inflated Streamlit's installation size were removed (#10008, #10011).\\n🐜\\xa0Bug fix: st.date_input gives the correct type hint for the value parameter (#10005, #10006).\\n🪲\\xa0Bug fix: st.write passes to st.html when ._repr_html() is present for an object (#9910).\\n🐛\\xa0Bug fix: st.html preserves target=_blank if set in an HTML string (#9972, #9994).\\n\\nOlder versions of Streamlit\\n\\n2024 release notes\\n2023 release notes\\n2022 release notes\\n2021 release notes\\n2020 release notes\\n2019 release notes\\nPrevious: Cheat sheetNext: 2025forumStill have questions?Our forums are full of helpful information and Streamlit experts.HomeContact UsCommunity© 2025 Snowflake Inc.Cookie policyforum Ask AI\")]"
      ]
     },
     "execution_count": 6,
     "metadata": {},
     "output_type": "execute_result"
    }
   ],
   "source": [
    "docs"
   ]
  },
  {
   "cell_type": "code",
   "execution_count": 7,
   "metadata": {},
   "outputs": [
    {
     "data": {
      "text/plain": [
       "[Document(metadata={'source': 'docs\\\\test_rag.pdf', 'page': 0}, page_content='SAMPLE BUSINESS \\nREQUIREMENTS \\nDOCUMENT T EMPLATE \\nSAMPLE BUSINESS REQUIREMENTS DOCUMENT TEMPLATE  \\nVERSION HISTORY  \\nVERSION  APPROVED BY  REVISION \\nDATE  DESCRIPTION OF CHANGE  AUTHOR  \\nNOTE TO USER: Overwrite the sample text included in this template to complete your project’s business \\nrequirements document.'),\n",
       " Document(metadata={'source': 'docs\\\\test_rag.pdf', 'page': 1}, page_content='SAMPLE BUSINESS REQUIREMENTS DOCUMENT TEMPLATE T\\nABLE OF CONTENTS  \\n1.EXECUTIVE SUMMARY SNAPSHOT 3 \\n2.PROJECT DESCRIPTION 4 \\n3.PROJECT SCOPE 5 \\n4.BUSINESS DRIVERS 6 \\n5.CURRENT PROCESS 7 \\n6.PROPOSED PROCESS 8 \\n7.FUNCTIONAL REQUIREMENTS 9 \\nPRIORITY 10 \\nREQUIREMENTS CATEGORIES (RC1) 10 \\n8. NON- FUNCTIONAL REQUIREMENTS 11 \\n9.FINANCIAL STATEMENTS 12 \\n10. COST AND BENEFIT 13 \\n11. RESOURCES 14 \\n12. SCHEDULE, TIMELINE, AND DEADLINES 15 \\n13. ASSUMPTIONS 16 \\n14. GLOSSARY 17 \\n15. REFERENCES 18 \\n16. APPENDIX 19'),\n",
       " Document(metadata={'source': 'docs\\\\test_rag.pdf', 'page': 2}, page_content='SAMPLE BUSINESS REQUIREMENTS DOCUMENT TEMPLATE 1.EXECUTIVE SUMMARY SNAPSHOT'),\n",
       " Document(metadata={'source': 'docs\\\\test_rag.pdf', 'page': 3}, page_content='SAMPLE BUSINESS REQUIREMENTS DOCUMENT TEMPLATE 2.PROJECT DESCRIPTION'),\n",
       " Document(metadata={'source': 'docs\\\\test_rag.pdf', 'page': 4}, page_content='SAMPLE BUSINESS REQUIREMENTS DOCUMENT TEMPLATE 3.PROJECT SCOPE'),\n",
       " Document(metadata={'source': 'docs\\\\test_rag.pdf', 'page': 5}, page_content='SAMPLE BUSINESS REQUIREMENTS DOCUMENT TEMPLATE 4.BUSINESS DRIVERS'),\n",
       " Document(metadata={'source': 'docs\\\\test_rag.pdf', 'page': 6}, page_content='SAMPLE BUSINESS REQUIREMENTS DOCUMENT TEMPLATE 5.CURRENT PROCESS'),\n",
       " Document(metadata={'source': 'docs\\\\test_rag.pdf', 'page': 7}, page_content='SAMPLE BUSINESS REQUIREMENTS DOCUMENT TEMPLATE 6.PROPOSED PROCESS'),\n",
       " Document(metadata={'source': 'docs\\\\test_rag.pdf', 'page': 8}, page_content='SAMPLE BUSINESS REQUIREMENTS DOCUMENT TEMPLATE 7.FUNCTIONAL REQUIREMENTS'),\n",
       " Document(metadata={'source': 'docs\\\\test_rag.pdf', 'page': 9}, page_content='SAMPLE BUSINESS REQUIREMENTS DOCUMENT TEMPLATE PRIORITY \\nUse t he following priority table . It allows you to apply  a ratings system to your \\nrequirements, so you have the visibility (into the value, status, and description of each \\nrequirement) that’s necessary for determining whether a particular requirement is \\nessential to p roject success:  \\nValue  Rating  Description  \\n1 Critical  The requirement is critical to the project’s success. \\nWithout fulfilling this requirement, the project is not \\npossible.  \\n2 High  The requirement is high priority re the project’s \\nsuccess, but the project could still be implemented \\nin a minimum viable product (MVP) scenario.  \\n3 Medium  The requirement is important to the project’s \\nsuccess, as it provides value, but the project could \\nstill be implemented in an MVP scen ario.  \\n4 Low The requirement is low  priority (i.e., it would be nice \\nto have),  but the project’s success is not dependent \\nupon it.  \\n5 Future  The requirement is out side of the project’s scope \\nand is included as a possible component of a \\nprospective  release and/or feature.  \\nREQUIREMENTS CATEGORIES (RC1)  \\nID Requirement  Priority  Raised By'),\n",
       " Document(metadata={'source': 'docs\\\\test_rag.pdf', 'page': 10}, page_content='SAMPLE BUSINESS REQUIREMENTS DOCUMENT TEMPLATE 8.NON- FUNCTIONAL REQUIREMENTS\\n. \\nID Requirement'),\n",
       " Document(metadata={'source': 'docs\\\\test_rag.pdf', 'page': 11}, page_content='SAMPLE BUSINESS REQUIREMENTS DOCUMENT TEMPLATE 9.FINANCIAL STATEMENTS'),\n",
       " Document(metadata={'source': 'docs\\\\test_rag.pdf', 'page': 12}, page_content='SAMPLE BUSINESS REQUIREMENTS DOCUMENT TEMPLATE 10.COST AND BENEFIT'),\n",
       " Document(metadata={'source': 'docs\\\\test_rag.pdf', 'page': 13}, page_content='SAMPLE BUSINESS REQUIREMENTS DOCUMENT TEMPLATE 11. RESOURCES'),\n",
       " Document(metadata={'source': 'docs\\\\test_rag.pdf', 'page': 14}, page_content='SAMPLE BUSINESS REQUIREMENTS DOCUMENT TEMPLATE 12.SCHEDULE, TIMELINE, AND DEADLINES'),\n",
       " Document(metadata={'source': 'docs\\\\test_rag.pdf', 'page': 15}, page_content='SAMPLE BUSINESS REQUIREMENTS DOCUMENT TEMPLATE 13. ASSUMPTION S'),\n",
       " Document(metadata={'source': 'docs\\\\test_rag.pdf', 'page': 16}, page_content='SAMPLE BUSINESS REQUIREMENTS DOCUMENT TEMPLATE 14. GLOSSARY\\nTerm / Abbreviation Explanation'),\n",
       " Document(metadata={'source': 'docs\\\\test_rag.pdf', 'page': 17}, page_content='SAMPLE BUSINESS REQUIREMENTS DOCUMENT TEMPLATE 15. REFERENCES\\nName  Location'),\n",
       " Document(metadata={'source': 'docs\\\\test_rag.pdf', 'page': 18}, page_content='SAMPLE BUSINESS REQUIREMENTS DOCUMENT TEMPLATE 16.APPENDIX'),\n",
       " Document(metadata={'source': 'docs\\\\test_rag.pdf', 'page': 19}, page_content='DISCLAIMER  \\nAny articles, templates, or information provided by Smartsheet on the website are for \\nreference only. While we strive to keep the information up to date and correct, we \\nmake no representations or warranties of any kind, express or implied, about the completeness, accuracy, reliability, suitability, or availability with respect to the website \\nor the information, articles, templates, or related graphics contained on the website. \\nAny reliance you place on such information is therefore strictly at your own risk.'),\n",
       " Document(metadata={'source': 'https://docs.streamlit.io/develop/quick-reference/release-notes', 'title': 'Release notes - Streamlit Docs', 'description': 'A changelog of highlights and fixes for each version of Streamlit.', 'language': 'No language found.'}, page_content=\"Release notes - Streamlit DocsDocumentationsearchSearchrocket_launchGet startedInstallationaddFundamentalsaddFirst stepsaddcodeDevelopConceptsaddAPI referenceaddTutorialsaddQuick referenceremoveCheat sheetRelease notesremove2025202420232022202120202019Pre-release featuresRoadmapopen_in_newweb_assetDeployConceptsaddStreamlit Community CloudaddSnowflakeOther platformsaddschoolKnowledge baseFAQInstalling dependenciesDeployment issuesHome/Develop/Quick reference/Release notesRelease notes\\nThis page lists highlights, bug fixes, and known issues for the latest release of Streamlit. If you're looking for information about nightly releases or experimental features, see Pre-release features.\\nUpgrade Streamlit\\nstarTipTo upgrade to the latest version of Streamlit, run:pip install --upgrade streamlit\\n\\nVersion 1.42.0 (latest)\\nRelease date: February 4, 2025\\nHighlights\\n\\n👩\\u200d💻\\xa0Introducing st.login() and st.logout() to authenticate users with any OpenID Connect provider.\\n\\nNotable Changes\\n\\n❣️\\xa0st.table supports Markdown (#8785, #10088).\\n⏲️\\xa0st.spinner can show elapsed time with show_time=True (#6805, #10072).\\n💈\\xa0st.image supports Markdown in the caption parameter (#6808, #10075).\\n↕️\\xa0st.code has a height parameter (#7418, #10080).\\n↔️\\xa0Most charts default to using use_container_width=True (#10064).\\n❄️\\xa0SnowflakeConnection was updated to match the current Snowflake API, which changes its handling of keyword arguments in some cases (#10122).\\n🐁\\xa0Users can drag and drop dataframe columns to rearrange them (#8796, #10099).\\n\\nOther Changes\\n\\n📌\\xa0Dataframes have column menus for users to sort and pin columns (#10206).\\n🚦\\xa0Dataframes support categorical indices (#9647, #10195).\\n🛸\\xa0Dataframes show a hover highlight on rows (#8096, #10104).\\n⚠️\\xa0When dataframes have cell values that are inconsistent with their configured type, Streamlit shows a tooltip describing the error (#8253, #9899).\\n➰ If there is an existing asyncio event loop when a Streamlit app starts, the app will reuse it instead of creating a new one (#10164). Thanks, DeltaGa!\\n🖼️\\xa0Streamlit recognizes pyspark.sql.connect.dataframe.DataFrame objects as dataframes (#9953, #9954). Thanks, OSalama!\\n😃\\xa0We've updated emoji validation for new emojis (#10149).\\n🔣\\xa0Material Symbols have been updated with the latest icons (#10247).\\n💅\\xa0Visual tweaks and improvements (#8705, #9823, #10047, #10048, #10083, #10087, #10225).\\n⭕\\xa0st.image displays rounded corners for consistent design (#9999).\\n🎩\\xa0Bug fix: Top margin is applied correctly in st.columns (#10265, #10268).\\n💩\\xa0Bug fix: react-syntax-highlighter is aliased to prevent rendering errors in st.code (#10231, #10244).\\n🧹\\xa0Bug fix: We improved error messages for st.query_params (#10111, #10237).\\n🪱\\xa0Bug fix: Linting for st.altair_chart recognizes all Altair chart types (#10202).\\n↗️\\xa0Bug fix: st.dataframe supports raw Arrow data (#5606, #10191).\\n🐍\\xa0Bug fix: st.navigation and st.page_link work when running in pure Python tests (#10163).\\n☠️\\xa0Bug fix: Retries were added to prevent a possible race condition when files are removed while Streamlit is running (#10148).\\n👽\\xa0Bug fix: When printing an app, st.logo will only print once (#10165, #10171).\\n🌍\\xa0Bug fix: Material icons are marked to prevent translation (#10168, #10174).\\n👻\\xa0Bug fix: st.vega_lite_chart correctly caches and updates its data (#6689, #10125).\\n🦀\\xa0Bug fix: When a fragment ID is not found, Streamlit logs a warning but doesn't raise an error (#9921, #10130).\\n🦋\\xa0Bug fix: The label on st.expander correctly fades when stale (#10085).\\n🦎\\xa0Bug fix: st.date_input provides better type hinting for its return value (#9477, #9620). Thanks, pranaybattu!\\n🐌\\xa0Bug fix: In dataframes, small float values display their first significant figure instead of displaying as 0 (#10060).\\n🕸️\\xa0Bug fix: When rich is installed, errors are only logged once. (#10097).\\n🦗\\xa0Bug fix: st.text preserves whitespace (#10055, #10062).\\n🦂\\xa0Bug fix: Dataframe width is not ignored when height is changed (#9762, #10036).\\n🦟\\xa0Bug fix: Multi index columns correctly handle empty labels (#9749, #10035).\\n🦠\\xa0Bug fix: Pinned columns respect column_order in when configured in st.dataframe (#9997, #10034).\\n🪰\\xa0Bug fix: Tooltips don't overflow to the left or right (#9288, #9452, #9983).\\n🪳\\xa0Bug fix: Disabled feedback widgets correctly show their value (#10030).\\n🕷️\\xa0Bug fix: Widgets correctly submit values if a user edits the value and immediately clicks a button (#10007, #10018).\\n🐞\\xa0Bug fix: Some MIME types have been hardcoded to protect against browser misconfiguration (#10004, #10010).\\n🐝\\xa0Bug fix: Files that unnecessarily inflated Streamlit's installation size were removed (#10008, #10011).\\n🐜\\xa0Bug fix: st.date_input gives the correct type hint for the value parameter (#10005, #10006).\\n🪲\\xa0Bug fix: st.write passes to st.html when ._repr_html() is present for an object (#9910).\\n🐛\\xa0Bug fix: st.html preserves target=_blank if set in an HTML string (#9972, #9994).\\n\\nOlder versions of Streamlit\"),\n",
       " Document(metadata={'source': 'https://docs.streamlit.io/develop/quick-reference/release-notes', 'title': 'Release notes - Streamlit Docs', 'description': 'A changelog of highlights and fixes for each version of Streamlit.', 'language': 'No language found.'}, page_content='Older versions of Streamlit\\n\\n2024 release notes\\n2023 release notes\\n2022 release notes\\n2021 release notes\\n2020 release notes\\n2019 release notes\\nPrevious: Cheat sheetNext: 2025forumStill have questions?Our forums are full of helpful information and Streamlit experts.HomeContact UsCommunity© 2025 Snowflake Inc.Cookie policyforum Ask AI')]"
      ]
     },
     "execution_count": 7,
     "metadata": {},
     "output_type": "execute_result"
    }
   ],
   "source": [
    "# Split docs\n",
    "\n",
    "text_splitter = RecursiveCharacterTextSplitter(\n",
    "    chunk_size=5000,\n",
    "    chunk_overlap=1000,\n",
    ")\n",
    "\n",
    "document_chunks = text_splitter.split_documents(docs)\n",
    "document_chunks"
   ]
  },
  {
   "cell_type": "code",
   "execution_count": 8,
   "metadata": {},
   "outputs": [],
   "source": [
    "# Tokenize and load the documents to the vector store\n",
    "\n",
    "vector_db = Chroma.from_documents(\n",
    "    documents=document_chunks,\n",
    "    embedding=OpenAIEmbeddings(),\n",
    ")"
   ]
  },
  {
   "cell_type": "code",
   "execution_count": 9,
   "metadata": {},
   "outputs": [
    {
     "data": {
      "text/plain": [
       "<langchain_community.vectorstores.chroma.Chroma at 0x288aa4cd1e0>"
      ]
     },
     "execution_count": 9,
     "metadata": {},
     "output_type": "execute_result"
    }
   ],
   "source": [
    "vector_db"
   ]
  },
  {
   "cell_type": "code",
   "execution_count": 10,
   "metadata": {},
   "outputs": [],
   "source": [
    "# Retrieve\n",
    "\n",
    "def _get_context_retriever_chain(vector_db, llm):\n",
    "    retriever = vector_db.as_retriever()\n",
    "    prompt = ChatPromptTemplate.from_messages([\n",
    "        MessagesPlaceholder(variable_name=\"messages\"),\n",
    "        (\"user\", \"{input}\"),\n",
    "        (\"user\", \"Given the option/input chosen by the user, mention if the option is correct or not. Inboth cases, give a short explianation focussing on most recent question.\"),\n",
    "    ])\n",
    "    retriever_chain = create_history_aware_retriever(llm, retriever, prompt)\n",
    "\n",
    "    return retriever_chain"
   ]
  },
  {
   "cell_type": "code",
   "execution_count": 11,
   "metadata": {},
   "outputs": [],
   "source": [
    "def get_conversational_rag_chain(llm):\n",
    "    retriever_chain = _get_context_retriever_chain(vector_db, llm)\n",
    "\n",
    "    prompt = ChatPromptTemplate.from_messages([\n",
    "        (\"system\",\n",
    "        \"\"\"You are a quiz master that ask questions to user. you will ask user a question and give 4 options. only one opion will be correct.\n",
    "        You will have some context to help with your asking the questions and deciding the correct option, but now always would be completely related or helpful.\n",
    "        You can also use your knowledge to assist answering the user's queries.\\n\n",
    "        {context}\"\"\"),\n",
    "        MessagesPlaceholder(variable_name=\"messages\"),\n",
    "        (\"user\", \"{input}\"),\n",
    "    ])\n",
    "    stuff_documents_chain = create_stuff_documents_chain(llm, prompt)\n",
    "\n",
    "    return create_retrieval_chain(retriever_chain, stuff_documents_chain)"
   ]
  },
  {
   "cell_type": "code",
   "execution_count": 12,
   "metadata": {},
   "outputs": [
    {
     "name": "stdout",
     "output_type": "stream",
     "text": [
      "The latest version of Streamlit is 1.42.0, released on February 4, 2025."
     ]
    }
   ],
   "source": [
    "# Augmented Generation\n",
    "\n",
    "llm_stream_openai = ChatOpenAI(\n",
    "    model=\"gpt-4o\",  # Here you could use \"o1-preview\" or \"o1-mini\" if you already have access to them\n",
    "    temperature=0.3,\n",
    "    streaming=True,\n",
    ")\n",
    "\n",
    "llm_stream_anthropic = ChatAnthropic(\n",
    "    model=\"claude-3-5-sonnet-20240620\",\n",
    "    temperature=0.3,\n",
    "    streaming=True,\n",
    ")\n",
    "\n",
    "llm_stream = llm_stream_openai  # Select between OpenAI and Anthropic models for the response\n",
    "\n",
    "messages = [\n",
    "    {\"role\": \"user\", \"content\": \"Hi\"},\n",
    "    {\"role\": \"assistant\", \"content\": \"Hi there! How can I assist you today?\"},\n",
    "    {\"role\": \"user\", \"content\": \"What is the latest version of Streamlit?\"},\n",
    "]\n",
    "messages = [HumanMessage(content=m[\"content\"]) if m[\"role\"] == \"user\" else AIMessage(content=m[\"content\"]) for m in messages]\n",
    "\n",
    "conversation_rag_chain = get_conversational_rag_chain(llm_stream)\n",
    "response_message = \"*(RAG Response)*\\n\"\n",
    "for chunk in conversation_rag_chain.pick(\"answer\").stream({\"messages\": messages[:-1], \"input\": messages[-1].content}):\n",
    "    response_message += chunk\n",
    "    print(chunk, end=\"\", flush=True)\n",
    "\n",
    "messages.append({\"role\": \"assistant\", \"content\": response_message})"
   ]
  },
  {
   "cell_type": "code",
   "execution_count": null,
   "metadata": {},
   "outputs": [],
   "source": []
  }
 ],
 "metadata": {
  "kernelspec": {
   "display_name": "llms_v4",
   "language": "python",
   "name": "python3"
  },
  "language_info": {
   "codemirror_mode": {
    "name": "ipython",
    "version": 3
   },
   "file_extension": ".py",
   "mimetype": "text/x-python",
   "name": "python",
   "nbconvert_exporter": "python",
   "pygments_lexer": "ipython3",
   "version": "3.10.16"
  }
 },
 "nbformat": 4,
 "nbformat_minor": 2
}
